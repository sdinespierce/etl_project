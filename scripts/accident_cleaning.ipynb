{
 "cells": [
  {
   "cell_type": "code",
   "execution_count": 1,
   "source": [
    "# import dependencies\r\n",
    "import pandas as pd"
   ],
   "outputs": [],
   "metadata": {}
  },
  {
   "cell_type": "code",
   "execution_count": 2,
   "source": [
    "#read in initial data file (Too large for github)\r\n",
    "df = pd.read_csv('../Data/US_Accidents_raw.csv')"
   ],
   "outputs": [],
   "metadata": {}
  },
  {
   "cell_type": "code",
   "execution_count": 3,
   "source": [
    "# find names for all columns\r\n",
    "for col in df.columns:\r\n",
    "    print(col)"
   ],
   "outputs": [
    {
     "output_type": "stream",
     "name": "stdout",
     "text": [
      "ID\n",
      "Severity\n",
      "Start_Time\n",
      "End_Time\n",
      "Start_Lat\n",
      "Start_Lng\n",
      "End_Lat\n",
      "End_Lng\n",
      "Distance(mi)\n",
      "Description\n",
      "Number\n",
      "Street\n",
      "Side\n",
      "City\n",
      "County\n",
      "State\n",
      "Zipcode\n",
      "Country\n",
      "Timezone\n",
      "Airport_Code\n",
      "Weather_Timestamp\n",
      "Temperature(F)\n",
      "Wind_Chill(F)\n",
      "Humidity(%)\n",
      "Pressure(in)\n",
      "Visibility(mi)\n",
      "Wind_Direction\n",
      "Wind_Speed(mph)\n",
      "Precipitation(in)\n",
      "Weather_Condition\n",
      "Amenity\n",
      "Bump\n",
      "Crossing\n",
      "Give_Way\n",
      "Junction\n",
      "No_Exit\n",
      "Railway\n",
      "Roundabout\n",
      "Station\n",
      "Stop\n",
      "Traffic_Calming\n",
      "Traffic_Signal\n",
      "Turning_Loop\n",
      "Sunrise_Sunset\n",
      "Civil_Twilight\n",
      "Nautical_Twilight\n",
      "Astronomical_Twilight\n"
     ]
    }
   ],
   "metadata": {}
  },
  {
   "cell_type": "code",
   "execution_count": 4,
   "source": [
    "# check the length of original csv\r\n",
    "len(df)"
   ],
   "outputs": [
    {
     "output_type": "execute_result",
     "data": {
      "text/plain": [
       "2906610"
      ]
     },
     "metadata": {},
     "execution_count": 4
    }
   ],
   "metadata": {}
  },
  {
   "cell_type": "code",
   "execution_count": 5,
   "source": [
    "# only collect data from New York state\r\n",
    "ny_df = df.loc[df.State == 'NY']\r\n",
    "len(ny_df)"
   ],
   "outputs": [
    {
     "output_type": "execute_result",
     "data": {
      "text/plain": [
       "126176"
      ]
     },
     "metadata": {},
     "execution_count": 5
    }
   ],
   "metadata": {}
  },
  {
   "cell_type": "code",
   "execution_count": 6,
   "source": [
    "ny_df.to_csv('../Data/NY_accidents.csv')"
   ],
   "outputs": [],
   "metadata": {}
  }
 ],
 "metadata": {
  "orig_nbformat": 4,
  "language_info": {
   "name": "python",
   "version": "3.6.10",
   "mimetype": "text/x-python",
   "codemirror_mode": {
    "name": "ipython",
    "version": 3
   },
   "pygments_lexer": "ipython3",
   "nbconvert_exporter": "python",
   "file_extension": ".py"
  },
  "kernelspec": {
   "name": "python3",
   "display_name": "Python 3.6.10 64-bit ('PythonData': conda)"
  },
  "interpreter": {
   "hash": "ec74549fe6943598ad391168db2b79c223dd398876bde91387de495bd9ded36a"
  }
 },
 "nbformat": 4,
 "nbformat_minor": 2
}