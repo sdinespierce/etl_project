{
 "cells": [
  {
   "cell_type": "code",
   "execution_count": 8,
   "source": [
    "import pandas as pd"
   ],
   "outputs": [],
   "metadata": {}
  },
  {
   "cell_type": "code",
   "execution_count": 9,
   "source": [
    "#read in race data\r\n",
    "county_pop_df = pd.read_csv('../Data/Census/ny_census_county_population.csv')\r\n",
    "county_pop_df['Year'] = pd.DatetimeIndex(county_pop_df['DATE']).year\r\n",
    "county_pop_df.drop(columns='DATE', axis=0, inplace=True)\r\n",
    "clean_county_pop_df = county_pop_df.rename(columns={'COUNTY_ID':'County_ID', 'POPULATION':'Population'})\r\n",
    "clean_county_pop_df.to_csv(\"../Data/db_table_csvs/County_Pop.csv\", index=False)"
   ],
   "outputs": [],
   "metadata": {}
  }
 ],
 "metadata": {
  "orig_nbformat": 4,
  "language_info": {
   "name": "python",
   "version": "3.6.10",
   "mimetype": "text/x-python",
   "codemirror_mode": {
    "name": "ipython",
    "version": 3
   },
   "pygments_lexer": "ipython3",
   "nbconvert_exporter": "python",
   "file_extension": ".py"
  },
  "kernelspec": {
   "name": "python3",
   "display_name": "Python 3.6.10 64-bit ('PythonData': conda)"
  },
  "interpreter": {
   "hash": "ed99c328fe6228cde88a5ea9dac3573c8a80070b6f57470153ed5be436ecc5ea"
  }
 },
 "nbformat": 4,
 "nbformat_minor": 2
}