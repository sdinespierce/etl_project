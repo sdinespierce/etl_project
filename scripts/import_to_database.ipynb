{
 "cells": [
  {
   "cell_type": "code",
   "execution_count": 1,
   "source": [
    "import pandas as pd\r\n",
    "from sqlalchemy import create_engine\r\n",
    "from sqlalchemy.orm import Session\r\n",
    "import psycopg2 as pg\r\n",
    "\r\n",
    "from db_config import db_user\r\n",
    "from db_config import db_pass\r\n",
    "from db_config import db_host\r\n",
    "from db_config import db_port\r\n"
   ],
   "outputs": [],
   "metadata": {}
  },
  {
   "cell_type": "code",
   "execution_count": 2,
   "source": [
    "engine = create_engine(f\"postgresql://{db_user}:{db_pass}@{db_host}:{db_port}/bootcamp\")\r\n",
    "conn = engine.connect()"
   ],
   "outputs": [],
   "metadata": {}
  },
  {
   "cell_type": "code",
   "execution_count": 3,
   "source": [
    "session = Session(bind=engine)"
   ],
   "outputs": [],
   "metadata": {}
  },
  {
   "cell_type": "code",
   "execution_count": 4,
   "source": [
    "Address_table_data = pd.read_csv('../Data/db_table_csvs/Address.csv', index_col=0)\r\n",
    "Address_table_data.to_sql('Address', con = conn, if_exists='append', chunksize = 100000, method ='multi')"
   ],
   "outputs": [],
   "metadata": {}
  },
  {
   "cell_type": "code",
   "execution_count": 5,
   "source": [
    "County_ID_table_data = pd.read_csv('../Data/db_table_csvs/County_ID.csv', index_col=0)\r\n",
    "County_ID_table_data.to_sql('County', con = conn, if_exists='append', chunksize = 10000, method ='multi')"
   ],
   "outputs": [],
   "metadata": {}
  },
  {
   "cell_type": "code",
   "execution_count": 7,
   "source": [
    "County_Pop_table_data = pd.read_csv('../Data/db_table_csvs/County_Pop.csv', index_col=0)\r\n",
    "County_Pop_table_data.to_sql('County_Population_by_Year', con = conn, if_exists='append', chunksize = 10000, method ='multi')"
   ],
   "outputs": [],
   "metadata": {}
  },
  {
   "cell_type": "code",
   "execution_count": 8,
   "source": [
    "Household_Income_by_Race_table_data = pd.read_csv('../Data/db_table_csvs/Household_Income_by_Race.csv', index_col=None)\r\n",
    "Household_Income_by_Race_table_data.to_sql('Household_Income_by_Race', con = conn, if_exists='append', chunksize = 100000, method ='multi', index=None)"
   ],
   "outputs": [],
   "metadata": {}
  },
  {
   "cell_type": "code",
   "execution_count": 9,
   "source": [
    "Infrastructure_table_data = pd.read_csv('../Data/db_table_csvs/Infrastructure.csv', index_col=0)\r\n",
    "Infrastructure_table_data.to_sql('Infrastructure', con = conn, if_exists='append', chunksize = 100000, method ='multi')"
   ],
   "outputs": [],
   "metadata": {}
  },
  {
   "cell_type": "code",
   "execution_count": 10,
   "source": [
    "\r\n",
    "Lat_Lng_table_data = pd.read_csv('../Data/db_table_csvs/Lat_Lng.csv', index_col=0)\r\n",
    "Lat_Lng_table_data.to_sql('Lat_Lng', con = conn, if_exists='append', chunksize = 100000, method ='multi')"
   ],
   "outputs": [],
   "metadata": {}
  },
  {
   "cell_type": "code",
   "execution_count": 11,
   "source": [
    "NY_Accidents_table_data = pd.read_csv('../Data/db_table_csvs/NY_Accidents.csv', index_col=0)\r\n",
    "NY_Accidents_table_data.to_sql('NY_Accidents', con = conn, if_exists='append', chunksize = 100000, method ='multi')"
   ],
   "outputs": [],
   "metadata": {}
  },
  {
   "cell_type": "code",
   "execution_count": 13,
   "source": [
    "Race_table_data = pd.read_csv('../Data/db_table_csvs/Race.csv', index_col=0)\r\n",
    "Race_table_data.to_sql('Race', con = conn, if_exists='append', chunksize = 100000, method ='multi')"
   ],
   "outputs": [],
   "metadata": {}
  },
  {
   "cell_type": "code",
   "execution_count": 14,
   "source": [
    "Time_table_data = pd.read_csv('../Data/db_table_csvs/Time.csv', index_col=0)\r\n",
    "Time_table_data.to_sql('Time', con = conn, if_exists='append', chunksize = 100000, method ='multi')"
   ],
   "outputs": [],
   "metadata": {}
  },
  {
   "cell_type": "code",
   "execution_count": 15,
   "source": [
    "Weather_table_data = pd.read_csv('../Data/db_table_csvs/Weather.csv', index_col=0)\r\n",
    "Weather_table_data.to_sql('Weather', con = conn, if_exists='append', chunksize = 500000, method ='multi')"
   ],
   "outputs": [],
   "metadata": {}
  },
  {
   "cell_type": "code",
   "execution_count": 16,
   "source": [
    "session.close()"
   ],
   "outputs": [],
   "metadata": {}
  }
 ],
 "metadata": {
  "orig_nbformat": 4,
  "language_info": {
   "name": "python",
   "version": "3.6.10",
   "mimetype": "text/x-python",
   "codemirror_mode": {
    "name": "ipython",
    "version": 3
   },
   "pygments_lexer": "ipython3",
   "nbconvert_exporter": "python",
   "file_extension": ".py"
  },
  "kernelspec": {
   "name": "python3",
   "display_name": "Python 3.6.10 64-bit ('PythonData': conda)"
  },
  "interpreter": {
   "hash": "ed99c328fe6228cde88a5ea9dac3573c8a80070b6f57470153ed5be436ecc5ea"
  }
 },
 "nbformat": 4,
 "nbformat_minor": 2
}