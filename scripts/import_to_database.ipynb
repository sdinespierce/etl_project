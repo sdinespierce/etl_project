{
 "cells": [
  {
   "cell_type": "code",
   "execution_count": 1,
   "source": [
    "import pandas as pd\r\n",
    "from sqlalchemy import create_engine, Column, Integer, String, Float\r\n",
    "from sqlalchemy.orm import Session\r\n",
    "import psycopg2 as pg\r\n",
    "\r\n",
    "from db_config import db_user\r\n",
    "from db_config import db_pass\r\n",
    "from db_config import db_host\r\n",
    "from db_config import db_port\r\n"
   ],
   "outputs": [],
   "metadata": {}
  },
  {
   "cell_type": "code",
   "execution_count": 2,
   "source": [
    "\r\n",
    "Lat_Lng_table_data = pd.read_csv('../Data/db_table_csvs/Lat_Lng.csv', index_col=0)\r\n",
    "Lat_Lng_table_data.head()"
   ],
   "outputs": [
    {
     "output_type": "execute_result",
     "data": {
      "text/plain": [
       "  Accident_ID  Start_Lat  Start_Lng    End_Lat    End_Lng\n",
       "0        A-12  40.912210 -73.875099  40.916901 -73.871440\n",
       "1        A-20  41.556862 -73.779556  41.556862 -73.779556\n",
       "2        A-25  40.912200 -73.884610  40.912200 -73.884610\n",
       "3        A-32  43.003693 -78.412064  43.003693 -78.412064\n",
       "4        A-40  43.100197 -77.547005  43.099092 -77.546755"
      ],
      "text/html": [
       "<div>\n",
       "<style scoped>\n",
       "    .dataframe tbody tr th:only-of-type {\n",
       "        vertical-align: middle;\n",
       "    }\n",
       "\n",
       "    .dataframe tbody tr th {\n",
       "        vertical-align: top;\n",
       "    }\n",
       "\n",
       "    .dataframe thead th {\n",
       "        text-align: right;\n",
       "    }\n",
       "</style>\n",
       "<table border=\"1\" class=\"dataframe\">\n",
       "  <thead>\n",
       "    <tr style=\"text-align: right;\">\n",
       "      <th></th>\n",
       "      <th>Accident_ID</th>\n",
       "      <th>Start_Lat</th>\n",
       "      <th>Start_Lng</th>\n",
       "      <th>End_Lat</th>\n",
       "      <th>End_Lng</th>\n",
       "    </tr>\n",
       "  </thead>\n",
       "  <tbody>\n",
       "    <tr>\n",
       "      <th>0</th>\n",
       "      <td>A-12</td>\n",
       "      <td>40.912210</td>\n",
       "      <td>-73.875099</td>\n",
       "      <td>40.916901</td>\n",
       "      <td>-73.871440</td>\n",
       "    </tr>\n",
       "    <tr>\n",
       "      <th>1</th>\n",
       "      <td>A-20</td>\n",
       "      <td>41.556862</td>\n",
       "      <td>-73.779556</td>\n",
       "      <td>41.556862</td>\n",
       "      <td>-73.779556</td>\n",
       "    </tr>\n",
       "    <tr>\n",
       "      <th>2</th>\n",
       "      <td>A-25</td>\n",
       "      <td>40.912200</td>\n",
       "      <td>-73.884610</td>\n",
       "      <td>40.912200</td>\n",
       "      <td>-73.884610</td>\n",
       "    </tr>\n",
       "    <tr>\n",
       "      <th>3</th>\n",
       "      <td>A-32</td>\n",
       "      <td>43.003693</td>\n",
       "      <td>-78.412064</td>\n",
       "      <td>43.003693</td>\n",
       "      <td>-78.412064</td>\n",
       "    </tr>\n",
       "    <tr>\n",
       "      <th>4</th>\n",
       "      <td>A-40</td>\n",
       "      <td>43.100197</td>\n",
       "      <td>-77.547005</td>\n",
       "      <td>43.099092</td>\n",
       "      <td>-77.546755</td>\n",
       "    </tr>\n",
       "  </tbody>\n",
       "</table>\n",
       "</div>"
      ]
     },
     "metadata": {},
     "execution_count": 2
    }
   ],
   "metadata": {}
  },
  {
   "cell_type": "code",
   "execution_count": 3,
   "source": [
    "engine = create_engine(f\"postgresql://{db_user}:{db_pass}@{db_host}:{db_port}/bootcamp\")\r\n",
    "conn = engine.connect()"
   ],
   "outputs": [],
   "metadata": {}
  },
  {
   "cell_type": "code",
   "execution_count": 4,
   "source": [
    "session = Session(bind=engine)"
   ],
   "outputs": [],
   "metadata": {}
  },
  {
   "cell_type": "code",
   "execution_count": 6,
   "source": [
    "Lat_Lng_table_data.to_sql('Lat_Lng', con = conn, if_exists='replace', chunksize = 10000, method ='multi')"
   ],
   "outputs": [],
   "metadata": {}
  },
  {
   "cell_type": "code",
   "execution_count": null,
   "source": [
    "session.close()"
   ],
   "outputs": [],
   "metadata": {}
  }
 ],
 "metadata": {
  "orig_nbformat": 4,
  "language_info": {
   "name": "python",
   "version": "3.6.10",
   "mimetype": "text/x-python",
   "codemirror_mode": {
    "name": "ipython",
    "version": 3
   },
   "pygments_lexer": "ipython3",
   "nbconvert_exporter": "python",
   "file_extension": ".py"
  },
  "kernelspec": {
   "name": "python3",
   "display_name": "Python 3.6.10 64-bit ('PythonData': conda)"
  },
  "interpreter": {
   "hash": "ed99c328fe6228cde88a5ea9dac3573c8a80070b6f57470153ed5be436ecc5ea"
  }
 },
 "nbformat": 4,
 "nbformat_minor": 2
}